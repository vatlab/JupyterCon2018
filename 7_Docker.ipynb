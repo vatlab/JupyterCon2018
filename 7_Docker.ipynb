{
 "cells": [
  {
   "cell_type": "markdown",
   "metadata": {
    "kernel": "SoS"
   },
   "source": [
    "### Using docker with SoS"
   ]
  },
  {
   "cell_type": "markdown",
   "metadata": {
    "kernel": "SoS"
   },
   "source": [
    "In the following example, a docker image `compbio/ngseasy-fastqc:1.0-r001` is used to process local fastq files"
   ]
  },
  {
   "cell_type": "code",
   "execution_count": 1,
   "metadata": {
    "kernel": "SoS"
   },
   "outputs": [
    {
     "data": {
      "text/html": [
       "<div class=\"sos_hint\">Pulling docker image compbio/ngseasy-fastqc:1.0-r001</div>"
      ]
     },
     "metadata": {},
     "output_type": "display_data"
    },
    {
     "name": "stdout",
     "output_type": "stream",
     "text": [
      "\n",
      "Started analysis of S20_R1.fastq\n",
      "Analysis complete for S20_R1.fastq\n",
      "Started analysis of S20_R2.fastq\n",
      "Analysis complete for S20_R2.fastq\n"
     ]
    }
   ],
   "source": [
    "%run --fastq_files data/*.fastq\n",
    "\n",
    "parameter: fastq_files = paths\n",
    "input: fastq_files\n",
    "\n",
    "sh: container='compbio/ngseasy-fastqc:1.0-r001', expand=True     \n",
    "    /usr/local/bin/fastqc {_input}"
   ]
  },
  {
   "cell_type": "code",
   "execution_count": 2,
   "metadata": {
    "kernel": "SoS"
   },
   "outputs": [
    {
     "data": {
      "text/html": [
       "<div class=\"sos_hint\">docker run --rm --security-opt label:disable  -v /home/bpeng1/sos/JupyterCon2018:/home/bpeng1/sos/JupyterCon2018 -v /home/bpeng1/sos/JupyterCon2018/tmpzykampi9/docker_run_109950.sh:/var/lib/sos/docker_run_109950.sh    -t  -w=/home/bpeng1/sos/JupyterCon2018 -u 1001:1001    compbio/ngseasy-fastqc:1.0-r001 /bin/sh /var/lib/sos/docker_run_109950.sh</div>"
      ]
     },
     "metadata": {},
     "output_type": "display_data"
    },
    {
     "name": "stdout",
     "output_type": "stream",
     "text": [
      "\n",
      "/usr/local/bin/fastqc /home/bpeng1/sos/JupyterCon2018/data/S20_R1.fastq /home/bpeng1/sos/JupyterCon2018/data/S20_R2.fastq\n",
      "\n"
     ]
    }
   ],
   "source": [
    "%rerun --fastq_files data/*.fastq -n"
   ]
  },
  {
   "cell_type": "code",
   "execution_count": 3,
   "metadata": {
    "kernel": "SoS"
   },
   "outputs": [
    {
     "name": "stdout",
     "output_type": "stream",
     "text": [
      "perl: warning: Setting locale failed.\n",
      "perl: warning: Please check that your locale settings:\n",
      "\tLANGUAGE = \"en_US\",\n",
      "\tLC_ALL = (unset),\n",
      "\tLANG = \"en_US.UTF-8\"\n",
      "    are supported and installed on your system.\n",
      "perl: warning: Falling back to the standard locale (\"C\").\n",
      "Started analysis of S20_R1.fastq\n",
      "Analysis complete for S20_R1.fastq\n",
      "Started analysis of S20_R2.fastq\n",
      "Analysis complete for S20_R2.fastq\n"
     ]
    }
   ],
   "source": [
    "%run --fastq_files data/*.fastq\n",
    "\n",
    "parameter: fastq_files = paths\n",
    "input: fastq_files\n",
    "\n",
    "sh: container='docker://compbio/ngseasy-fastqc:1.0-r001', engine='singularity', expand=True     \n",
    "    /usr/local/bin/fastqc {_input}"
   ]
  },
  {
   "cell_type": "code",
   "execution_count": 4,
   "metadata": {
    "kernel": "SoS"
   },
   "outputs": [
    {
     "name": "stdout",
     "output_type": "stream",
     "text": [
      "perl: warning: Setting locale failed.\n",
      "perl: warning: Please check that your locale settings:\n",
      "\tLANGUAGE = \"en_US\",\n",
      "\tLC_ALL = (unset),\n",
      "\tLANG = \"en_US.UTF-8\"\n",
      "    are supported and installed on your system.\n",
      "perl: warning: Falling back to the standard locale (\"C\").\n",
      "Started analysis of S20_R1.fastq\n",
      "Analysis complete for S20_R1.fastq\n",
      "Started analysis of S20_R2.fastq\n",
      "Analysis complete for S20_R2.fastq\n"
     ]
    }
   ],
   "source": [
    "%run --fastq_files data/*.fastq\n",
    "\n",
    "parameter: fastq_files = paths\n",
    "input: fastq_files\n",
    "\n",
    "sh: container='compbio-ngseasy-fastqc:1.0-r001.simg', expand=True     \n",
    "    /usr/local/bin/fastqc {_input}"
   ]
  },
  {
   "cell_type": "code",
   "execution_count": null,
   "metadata": {
    "kernel": "SoS"
   },
   "outputs": [],
   "source": []
  }
 ],
 "metadata": {
  "kernelspec": {
   "display_name": "SoS",
   "language": "sos",
   "name": "sos"
  },
  "language_info": {
   "codemirror_mode": "sos",
   "file_extension": ".sos",
   "mimetype": "text/x-sos",
   "name": "sos",
   "nbconvert_exporter": "sos_notebook.converter.SoS_Exporter",
   "pygments_lexer": "sos"
  },
  "sos": {
   "default_kernel": "SoS",
   "kernels": [
    [
     "SoS",
     "sos",
     "",
     ""
    ]
   ],
   "panel": {
    "displayed": true,
    "height": 0,
    "style": "side"
   },
   "version": "0.16.11"
  }
 },
 "nbformat": 4,
 "nbformat_minor": 2
}
